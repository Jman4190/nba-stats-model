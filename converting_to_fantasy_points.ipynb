{
 "cells": [
  {
   "cell_type": "markdown",
   "metadata": {},
   "source": [
    "# Converting stats to fantasy points"
   ]
  },
  {
   "cell_type": "code",
   "execution_count": null,
   "metadata": {},
   "outputs": [],
   "source": [
    "# import modules\n",
    "import numpy as np\n",
    "import pandas as pd\n",
    "from sklearn import preprocessing\n",
    "from math import sqrt\n",
    "from IPython.display import display\n",
    "from sklearn.metrics import mean_squared_error\n",
    "import pprint"
   ]
  },
  {
   "cell_type": "code",
   "execution_count": null,
   "metadata": {},
   "outputs": [],
   "source": [
    "df_proj_stats = pd.read_csv('nba-csv/df_proj_stats.csv')"
   ]
  },
  {
   "cell_type": "code",
   "execution_count": null,
   "metadata": {},
   "outputs": [],
   "source": [
    "def fantasy_pts_converter(row):\n",
    "    pts = row[3]\n",
    "    fgm = row[5]\n",
    "    fga = row[6]\n",
    "    ftm = row[9]\n",
    "    fta = row[10]\n",
    "    oreb = row[11]\n",
    "    dreb = row[12]\n",
    "    ast = row[13]\n",
    "    stl = row[14]\n",
    "    tov = row[15]\n",
    "    blk = row[16]    \n",
    "    fantasy_pts = pts + fgm - fga + ftm - fta + oreb + dreb + ast + stl - tov + blk\n",
    "    return fantasy_pts"
   ]
  },
  {
   "cell_type": "code",
   "execution_count": null,
   "metadata": {},
   "outputs": [],
   "source": [
    "fantasy_value = df_proj_stats.apply(fantasy_pts_converter, axis = 'columns')"
   ]
  },
  {
   "cell_type": "code",
   "execution_count": null,
   "metadata": {},
   "outputs": [],
   "source": [
    "df_proj_stats['fantasy_pts'] = fantasy_value"
   ]
  },
  {
   "cell_type": "code",
   "execution_count": null,
   "metadata": {},
   "outputs": [],
   "source": [
    "df_proj_stats.sort_values('fantasy_pts', ascending = False)"
   ]
  },
  {
   "cell_type": "code",
   "execution_count": null,
   "metadata": {},
   "outputs": [],
   "source": [
    "df_proj_stats.to_csv('stats_final_projects_fnatasy_pts.csv', index=False)"
   ]
  }
 ],
 "metadata": {
  "kernelspec": {
   "display_name": "Python 3",
   "language": "python",
   "name": "python3"
  },
  "language_info": {
   "codemirror_mode": {
    "name": "ipython",
    "version": 3
   },
   "file_extension": ".py",
   "mimetype": "text/x-python",
   "name": "python",
   "nbconvert_exporter": "python",
   "pygments_lexer": "ipython3",
   "version": "3.6.6"
  }
 },
 "nbformat": 4,
 "nbformat_minor": 2
}
