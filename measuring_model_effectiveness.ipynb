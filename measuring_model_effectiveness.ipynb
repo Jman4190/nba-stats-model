{
 "cells": [
  {
   "cell_type": "markdown",
   "metadata": {},
   "source": [
    "## Measure Effectiveness with RMSE"
   ]
  },
  {
   "cell_type": "code",
   "execution_count": null,
   "metadata": {},
   "outputs": [],
   "source": [
    "# import modules\n",
    "import numpy as np\n",
    "import pandas as pd\n",
    "from sklearn import preprocessing\n",
    "from math import sqrt\n",
    "from IPython.display import display\n",
    "from sklearn.metrics import mean_squared_error\n",
    "import pprint"
   ]
  },
  {
   "cell_type": "code",
   "execution_count": null,
   "metadata": {},
   "outputs": [],
   "source": [
    "player_proj = pd.read_csv('nba-csv/player_proj_df.csv')\n",
    "player_info = pd.read_csv('nba-csv/player_info_df.csv')"
   ]
  },
  {
   "cell_type": "code",
   "execution_count": null,
   "metadata": {},
   "outputs": [],
   "source": [
    "df_real = player_proj.loc[:, ['pts','min','fgm','fga','fg3m','fg3a','ftm','fta','oreb','dreb','ast','stl','tov', 'blk']]"
   ]
  },
  {
   "cell_type": "code",
   "execution_count": null,
   "metadata": {},
   "outputs": [],
   "source": [
    "df_proj = player_proj.loc[:, ['proj_pts','proj_min','proj_fgm','proj_fga','proj_fg3m','proj_fg3a','proj_ftm','proj_fta','proj_oreb','proj_dreb','proj_ast','proj_stl','proj_tov', 'proj_blk']]"
   ]
  },
  {
   "cell_type": "code",
   "execution_count": null,
   "metadata": {},
   "outputs": [],
   "source": [
    "# calculate mean square error\n",
    "from sklearn.metrics import mean_squared_error\n",
    "import pprint\n",
    "lin_mse = mean_squared_error(df_real, df_proj, multioutput='raw_values')\n",
    "lin_rmse = np.sqrt(lin_mse)\n",
    "confidence = np.mean(lin_rmse)\n",
    "print('{0} percent confidence in projected {1} per game stats'.format(100 - round(confidence, 2), '2016-17'))"
   ]
  },
  {
   "cell_type": "code",
   "execution_count": null,
   "metadata": {},
   "outputs": [],
   "source": [
    "df_real_stats = pd.concat([player_info,df_real],axis=1)\n",
    "df_real_stats.rename(columns = {'proj_season_id':'season_id',},inplace = True)\n",
    "\n",
    "df_proj_stats = pd.concat([player_info,df_proj],axis=1)\n",
    "df_proj_stats.rename(columns = {'proj_season_id':'season_id',\n",
    "                               'proj_pts': 'pts',\n",
    "                                'proj_min':'min',\n",
    "                                'proj_fgm':'fgm',\n",
    "                                'proj_fga':'fga',\n",
    "                                'proj_fg3m':'fg3m',\n",
    "                                'proj_fg3a':'fg3a',\n",
    "                                'proj_ftm':'ftm',\n",
    "                                'proj_fta':'fta',\n",
    "                                'proj_oreb':'oreb',\n",
    "                                'proj_dreb':'dreb',\n",
    "                                'proj_ast':'ast',\n",
    "                                'proj_stl':'stl',\n",
    "                                'proj_tov':'tov',\n",
    "                               'proj_blk':'blk'}, inplace = True)"
   ]
  },
  {
   "cell_type": "code",
   "execution_count": null,
   "metadata": {},
   "outputs": [],
   "source": [
    "# Print the differences for a spot check\n",
    "display(df_real_stats)\n",
    "display(round(df_proj_stats,1))"
   ]
  },
  {
   "cell_type": "code",
   "execution_count": null,
   "metadata": {},
   "outputs": [],
   "source": []
  },
  {
   "cell_type": "code",
   "execution_count": null,
   "metadata": {},
   "outputs": [],
   "source": []
  },
  {
   "cell_type": "code",
   "execution_count": null,
   "metadata": {},
   "outputs": [],
   "source": []
  },
  {
   "cell_type": "code",
   "execution_count": null,
   "metadata": {},
   "outputs": [],
   "source": []
  },
  {
   "cell_type": "code",
   "execution_count": null,
   "metadata": {},
   "outputs": [],
   "source": []
  },
  {
   "cell_type": "code",
   "execution_count": null,
   "metadata": {},
   "outputs": [],
   "source": []
  }
 ],
 "metadata": {
  "kernelspec": {
   "display_name": "Python 3",
   "language": "python",
   "name": "python3"
  },
  "language_info": {
   "codemirror_mode": {
    "name": "ipython",
    "version": 3
   },
   "file_extension": ".py",
   "mimetype": "text/x-python",
   "name": "python",
   "nbconvert_exporter": "python",
   "pygments_lexer": "ipython3",
   "version": "3.6.6"
  }
 },
 "nbformat": 4,
 "nbformat_minor": 2
}
